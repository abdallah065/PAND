{
 "cells": [
  {
   "cell_type": "code",
   "execution_count": 2,
   "metadata": {},
   "outputs": [],
   "source": [
    "#create a streamlit app to display the results of plant disease detection\n",
    "import streamlit as st\n",
    "\n",
    "import modelClass as mc"
   ]
  },
  {
   "cell_type": "code",
   "execution_count": 4,
   "metadata": {},
   "outputs": [],
   "source": [
    "#load the model\n",
    "model = mc.get_model()\n",
    "\n",
    "#set the title of the app\n",
    "st.title(\"P.A.N.D System\")\n",
    "\n",
    "#set the subtitle of the app\n",
    "st.subheader(\"Plant Analysis and Disease Detection System\")\n",
    "\n",
    "#set the description of the app\n",
    "st.write(\"This is a web app that can detect plant diseases and give you the best treatment for the disease. It can also detect the status of the plant (healthy, unhealthy, or dead).\")\n",
    "\n",
    "#load the image\n",
    "image = st.file_uploader(\"Upload an image\", type=[\"jpg\", \"png\", \"jpeg\",\"JPJ\", \"PNG\", \"JPEG\"])\n",
    "\n",
    "#predict the image\n",
    "if image is not None:\n",
    "    st.image(image, caption='Uploaded Image.', use_column_width=True)\n",
    "    st.write(\"\")\n",
    "    st.write(\"Classifying...\")\n",
    "    data = mc.predict_image(image, model)\n",
    "\n",
    "    #display the top 3 predictions beside each other if confidance 1 is less than 0.98\n",
    "    if data[0]['confidance'] < 0.98:\n",
    "        col1, col2, col3 = st.beta_columns(3)\n",
    "        with col1:\n",
    "            st.write(\"Plant: \", data[0]['plant'])\n",
    "            st.write(\"Status: \", data[0]['status'])\n",
    "            st.write(\"Disease: \", data[0]['disease'])\n",
    "            st.write(\"Confidance: \", data[0]['confidance'])\n",
    "        with col2:\n",
    "            st.write(\"Plant: \", data[1]['plant'])\n",
    "            st.write(\"Status: \", data[1]['status'])\n",
    "            st.write(\"Disease: \", data[1]['disease'])\n",
    "            st.write(\"Confidance: \", data[1]['confidance'])\n",
    "        with col3:\n",
    "            st.write(\"Plant: \", data[2]['plant'])\n",
    "            st.write(\"Status: \", data[2]['status'])\n",
    "            st.write(\"Disease: \", data[2]['disease'])\n",
    "            st.write(\"Confidance: \", data[2]['confidance'])\n",
    "    else:\n",
    "        #display the first prediction in center\n",
    "        st.write(\"Plant: \", data[0]['plant'])\n",
    "        st.write(\"Status: \", data[0]['status'])\n",
    "        st.write(\"Disease: \", data[0]['disease'])\n",
    "        st.write(\"Confidance: \", data[0]['confidance'])\n",
    "#set the footer of the app\n",
    "st.write(\"This app was created by: Abdallah Saber\")\n",
    "\n",
    "#run the app\n",
    "if __name__ == '__main__':\n",
    "    #st.set_page_config(layout=\"wide\")\n",
    "    st.set_page_config(page_title=\"P.A.N.D System\", page_icon=\":seedling:\", layout=\"wide\", initial_sidebar_state=\"expanded\")"
   ]
  }
 ],
 "metadata": {
  "kernelspec": {
   "display_name": "Python 3",
   "language": "python",
   "name": "python3"
  },
  "language_info": {
   "codemirror_mode": {
    "name": "ipython",
    "version": 3
   },
   "file_extension": ".py",
   "mimetype": "text/x-python",
   "name": "python",
   "nbconvert_exporter": "python",
   "pygments_lexer": "ipython3",
   "version": "3.9.1"
  },
  "orig_nbformat": 4,
  "vscode": {
   "interpreter": {
    "hash": "8538bd74e6536fb31579f79a7edb81064627eead9bc3e7079839b021b5b49d41"
   }
  }
 },
 "nbformat": 4,
 "nbformat_minor": 2
}
